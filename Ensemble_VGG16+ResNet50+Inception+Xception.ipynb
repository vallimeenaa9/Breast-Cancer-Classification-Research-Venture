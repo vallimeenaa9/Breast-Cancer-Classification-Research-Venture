{
  "nbformat": 4,
  "nbformat_minor": 0,
  "metadata": {
    "colab": {
      "name": "Ensemble VGG16+ResNet50+Inception+Xception",
      "provenance": [],
      "collapsed_sections": [],
      "include_colab_link": true
    },
    "kernelspec": {
      "name": "python3",
      "display_name": "Python 3"
    },
    "language_info": {
      "name": "python"
    },
    "accelerator": "TPU"
  },
  "cells": [
    {
      "cell_type": "markdown",
      "metadata": {
        "id": "view-in-github",
        "colab_type": "text"
      },
      "source": [
        "<a href=\"https://colab.research.google.com/github/vallimeenaa9/Breast_Cancer/blob/main/Ensemble_VGG16%2BResNet50%2BInception%2BXception.ipynb\" target=\"_parent\"><img src=\"https://colab.research.google.com/assets/colab-badge.svg\" alt=\"Open In Colab\"/></a>"
      ]
    },
    {
      "cell_type": "code",
      "metadata": {
        "colab": {
          "base_uri": "https://localhost:8080/"
        },
        "id": "1204WbKCRvU3",
        "outputId": "c9f185f2-8fc5-427e-cccc-db6789c5b08f"
      },
      "source": [
        "from google.colab import drive\n",
        "drive.mount('/content/drive')"
      ],
      "execution_count": null,
      "outputs": [
        {
          "output_type": "stream",
          "name": "stdout",
          "text": [
            "Mounted at /content/drive\n"
          ]
        }
      ]
    },
    {
      "cell_type": "code",
      "metadata": {
        "colab": {
          "base_uri": "https://localhost:8080/"
        },
        "id": "JFWhwrERZEYw",
        "outputId": "1faa70c9-1ca0-4df9-9f93-da1836c80237"
      },
      "source": [
        "pip install torchvision"
      ],
      "execution_count": null,
      "outputs": [
        {
          "output_type": "stream",
          "name": "stdout",
          "text": [
            "Requirement already satisfied: torchvision in /usr/local/lib/python3.7/dist-packages (0.10.0+cu102)\n",
            "Requirement already satisfied: torch==1.9.0 in /usr/local/lib/python3.7/dist-packages (from torchvision) (1.9.0+cu102)\n",
            "Requirement already satisfied: numpy in /usr/local/lib/python3.7/dist-packages (from torchvision) (1.19.5)\n",
            "Requirement already satisfied: pillow>=5.3.0 in /usr/local/lib/python3.7/dist-packages (from torchvision) (7.1.2)\n",
            "Requirement already satisfied: typing-extensions in /usr/local/lib/python3.7/dist-packages (from torch==1.9.0->torchvision) (3.7.4.3)\n"
          ]
        }
      ]
    },
    {
      "cell_type": "code",
      "metadata": {
        "id": "YtYuBeRxSRAh"
      },
      "source": [
        "import zipfile\n",
        "import os\n",
        "zip_ref = zipfile.ZipFile('/content/drive/MyDrive/Cancer_PNG.zip', 'r') #Opens the zip file in read mode\n",
        "zip_ref.extractall('/tmp') #Extracts the files into the /tmp folder\n",
        "zip_ref.close()"
      ],
      "execution_count": null,
      "outputs": []
    },
    {
      "cell_type": "code",
      "metadata": {
        "id": "ycGN6B6Sc_JY"
      },
      "source": [
        "import torch\n",
        "import torchvision\n",
        "import matplotlib.pyplot as plt\n",
        "import numpy as np\n",
        "import pandas as pd\n",
        "import seaborn as sns\n",
        "import cv2\n",
        "import tensorflow as tf\n",
        "from tensorflow.keras.preprocessing.image import ImageDataGenerator\n",
        "from tqdm import tqdm\n",
        "import os\n",
        "from sklearn.utils import shuffle\n",
        "from sklearn.model_selection import train_test_split\n",
        "from tensorflow.keras.applications import EfficientNetB0\n",
        "from keras.models import Sequential,Model\n",
        "from keras.applications.vgg16 import preprocess_input,VGG16\n",
        "from keras.layers import MaxPooling2D,Conv2D,Dense,BatchNormalization,Dropout,GlobalAveragePooling2D,Flatten,Input\n",
        "from tensorflow.keras.callbacks import EarlyStopping, ReduceLROnPlateau, TensorBoard, ModelCheckpoint\n",
        "from sklearn.metrics import classification_report,confusion_matrix\n",
        "from keras.utils.vis_utils import plot_model\n",
        "import ipywidgets as widgets\n",
        "from sklearn.preprocessing import OneHotEncoder\n",
        "import io\n",
        "from PIL import Image\n",
        "from IPython.display import display,clear_output\n",
        "from warnings import filterwarnings\n",
        "from glob import glob\n",
        "from tifffile import imread, imwrite\n",
        "from skimage.transform import resize"
      ],
      "execution_count": null,
      "outputs": []
    },
    {
      "cell_type": "code",
      "metadata": {
        "colab": {
          "base_uri": "https://localhost:8080/"
        },
        "id": "CHE1jl5qdH2U",
        "outputId": "a1783a51-cd1a-45cc-a310-9004334cc0dc"
      },
      "source": [
        "len(os.listdir('/tmp/Cancer_PNG/'))"
      ],
      "execution_count": null,
      "outputs": [
        {
          "output_type": "execute_result",
          "data": {
            "text/plain": [
              "4"
            ]
          },
          "metadata": {},
          "execution_count": 4
        }
      ]
    },
    {
      "cell_type": "code",
      "metadata": {
        "id": "cBtKy28ddo-W"
      },
      "source": [
        "# Prepere data\n",
        "benign = os.listdir('/tmp/Cancer_PNG/Benign')\n",
        "insitu  = os.listdir('/tmp/Cancer_PNG/InSitu')\n",
        "invasive  = os.listdir('/tmp/Cancer_PNG/Invasive')\n",
        "normal  = os.listdir('/tmp/Cancer_PNG/Normal')\n",
        "\n"
      ],
      "execution_count": null,
      "outputs": []
    },
    {
      "cell_type": "code",
      "metadata": {
        "id": "aIz1bawHetcg"
      },
      "source": [
        "# Prepere input data\n",
        "X_data =[]\n",
        "for file in benign:\n",
        "    img = cv2.imread('/tmp/Cancer_PNG/Benign/'+file)\n",
        "    face = cv2.resize(img, (224, 224) )\n",
        "    (b, g, r)=cv2.split(face) \n",
        "    img=cv2.merge([r,g,b])\n",
        "    X_data.append(img)\n",
        "\n",
        "for file in insitu:\n",
        "    img = cv2.imread('/tmp/Cancer_PNG/InSitu/'+file)\n",
        "    face = cv2.resize(img, (224, 224) )\n",
        "    (b, g, r)=cv2.split(face) \n",
        "    img=cv2.merge([r,g,b])\n",
        "    X_data.append(img)\n",
        "  \n",
        "for file in invasive:\n",
        "    img = cv2.imread('/tmp/Cancer_PNG/Invasive/'+file)\n",
        "    face = cv2.resize(img, (224, 224) )\n",
        "    (b, g, r)=cv2.split(face) \n",
        "    img=cv2.merge([r,g,b])\n",
        "    X_data.append(img)\n",
        "\n",
        "for file in normal:\n",
        "    img = cv2.imread('/tmp/Cancer_PNG/Normal/'+file)\n",
        "    face = cv2.resize(img, (224, 224) )\n",
        "    (b, g, r)=cv2.split(face) \n",
        "    img=cv2.merge([r,g,b])\n",
        "    X_data.append(img)"
      ],
      "execution_count": null,
      "outputs": []
    },
    {
      "cell_type": "code",
      "metadata": {
        "id": "ysPxSh6-55JT"
      },
      "source": [
        "image_width=224\n",
        "image_height=224"
      ],
      "execution_count": null,
      "outputs": []
    },
    {
      "cell_type": "code",
      "metadata": {
        "colab": {
          "base_uri": "https://localhost:8080/"
        },
        "id": "_sscv4r0j1zK",
        "outputId": "4881f7c5-36a8-49d0-e390-6954b684ebf7"
      },
      "source": [
        "X = np.squeeze(X_data)\n",
        "X.shape"
      ],
      "execution_count": null,
      "outputs": [
        {
          "output_type": "execute_result",
          "data": {
            "text/plain": [
              "(400, 224, 224, 3)"
            ]
          },
          "metadata": {},
          "execution_count": 10
        }
      ]
    },
    {
      "cell_type": "code",
      "metadata": {
        "colab": {
          "base_uri": "https://localhost:8080/",
          "height": 269
        },
        "id": "mzRYBodLj6aJ",
        "outputId": "8c83a8b9-1f61-4709-9045-2f5597d1abdc"
      },
      "source": [
        "from matplotlib import pyplot as plt\n",
        "plt.imshow(X[5], interpolation='nearest')\n",
        "plt.show()"
      ],
      "execution_count": null,
      "outputs": [
        {
          "output_type": "display_data",
          "data": {
            "image/png": "[encoded data removed]",
            "text/plain": [
              "<Figure size 432x288 with 1 Axes>"
            ]
          },
          "metadata": {
            "needs_background": "light"
          }
        }
      ]
    },
    {
      "cell_type": "code",
      "metadata": {
        "colab": {
          "base_uri": "https://localhost:8080/"
        },
        "id": "9oOKDsV2k6to",
        "outputId": "a67d6d3d-d3f7-4de8-eab6-bdf88fa44ddc"
      },
      "source": [
        "target_benign=np.full(len(benign),3)\n",
        "target_insitu=np.full(len(insitu),2)\n",
        "target_invasive=np.full(len(invasive),1)\n",
        "target_normal=np.full(len(normal),0)\n",
        "Y=np.concatenate([target_benign,target_insitu,target_invasive,target_normal])\n",
        "Y"
      ],
      "execution_count": null,
      "outputs": [
        {
          "output_type": "execute_result",
          "data": {
            "text/plain": [
              "array([3, 3, 3, 3, 3, 3, 3, 3, 3, 3, 3, 3, 3, 3, 3, 3, 3, 3, 3, 3, 3, 3,\n",
              "       3, 3, 3, 3, 3, 3, 3, 3, 3, 3, 3, 3, 3, 3, 3, 3, 3, 3, 3, 3, 3, 3,\n",
              "       3, 3, 3, 3, 3, 3, 3, 3, 3, 3, 3, 3, 3, 3, 3, 3, 3, 3, 3, 3, 3, 3,\n",
              "       3, 3, 3, 3, 3, 3, 3, 3, 3, 3, 3, 3, 3, 3, 3, 3, 3, 3, 3, 3, 3, 3,\n",
              "       3, 3, 3, 3, 3, 3, 3, 3, 3, 3, 3, 3, 2, 2, 2, 2, 2, 2, 2, 2, 2, 2,\n",
              "       2, 2, 2, 2, 2, 2, 2, 2, 2, 2, 2, 2, 2, 2, 2, 2, 2, 2, 2, 2, 2, 2,\n",
              "       2, 2, 2, 2, 2, 2, 2, 2, 2, 2, 2, 2, 2, 2, 2, 2, 2, 2, 2, 2, 2, 2,\n",
              "       2, 2, 2, 2, 2, 2, 2, 2, 2, 2, 2, 2, 2, 2, 2, 2, 2, 2, 2, 2, 2, 2,\n",
              "       2, 2, 2, 2, 2, 2, 2, 2, 2, 2, 2, 2, 2, 2, 2, 2, 2, 2, 2, 2, 2, 2,\n",
              "       2, 2, 1, 1, 1, 1, 1, 1, 1, 1, 1, 1, 1, 1, 1, 1, 1, 1, 1, 1, 1, 1,\n",
              "       1, 1, 1, 1, 1, 1, 1, 1, 1, 1, 1, 1, 1, 1, 1, 1, 1, 1, 1, 1, 1, 1,\n",
              "       1, 1, 1, 1, 1, 1, 1, 1, 1, 1, 1, 1, 1, 1, 1, 1, 1, 1, 1, 1, 1, 1,\n",
              "       1, 1, 1, 1, 1, 1, 1, 1, 1, 1, 1, 1, 1, 1, 1, 1, 1, 1, 1, 1, 1, 1,\n",
              "       1, 1, 1, 1, 1, 1, 1, 1, 1, 1, 1, 1, 1, 1, 0, 0, 0, 0, 0, 0, 0, 0,\n",
              "       0, 0, 0, 0, 0, 0, 0, 0, 0, 0, 0, 0, 0, 0, 0, 0, 0, 0, 0, 0, 0, 0,\n",
              "       0, 0, 0, 0, 0, 0, 0, 0, 0, 0, 0, 0, 0, 0, 0, 0, 0, 0, 0, 0, 0, 0,\n",
              "       0, 0, 0, 0, 0, 0, 0, 0, 0, 0, 0, 0, 0, 0, 0, 0, 0, 0, 0, 0, 0, 0,\n",
              "       0, 0, 0, 0, 0, 0, 0, 0, 0, 0, 0, 0, 0, 0, 0, 0, 0, 0, 0, 0, 0, 0,\n",
              "       0, 0, 0, 0])"
            ]
          },
          "metadata": {},
          "execution_count": 12
        }
      ]
    },
    {
      "cell_type": "code",
      "metadata": {
        "colab": {
          "base_uri": "https://localhost:8080/"
        },
        "id": "Q-gjJteImezQ",
        "outputId": "a62bcfd5-7f27-4d9f-a106-8a478f2005a1"
      },
      "source": [
        "len(Y)"
      ],
      "execution_count": null,
      "outputs": [
        {
          "output_type": "execute_result",
          "data": {
            "text/plain": [
              "400"
            ]
          },
          "metadata": {},
          "execution_count": 13
        }
      ]
    },
    {
      "cell_type": "code",
      "metadata": {
        "colab": {
          "base_uri": "https://localhost:8080/"
        },
        "id": "KD5xIKa3mh6T",
        "outputId": "9c02fa25-abde-4b1d-e167-23c337885c59"
      },
      "source": [
        "from sklearn.model_selection import train_test_split\n",
        "X_train, X_test, Y_train, Y_test = train_test_split(X, Y, test_size=0.2, shuffle='true')\n",
        "number_of_train = X_train.shape[0]\n",
        "number_of_test = X_test.shape[0]\n",
        "print('number_of_train:', number_of_train)\n",
        "print('number_of_test:', number_of_test)"
      ],
      "execution_count": null,
      "outputs": [
        {
          "output_type": "stream",
          "name": "stdout",
          "text": [
            "number_of_train: 320\n",
            "number_of_test: 80\n"
          ]
        }
      ]
    },
    {
      "cell_type": "markdown",
      "metadata": {
        "id": "hYTyBVUmy0xe"
      },
      "source": [
        "# Ensemble learning"
      ]
    },
    {
      "cell_type": "markdown",
      "metadata": {
        "id": "p7leDEQAQDpu"
      },
      "source": [
        "## VGG16"
      ]
    },
    {
      "cell_type": "code",
      "metadata": {
        "id": "dmIU5dlEQFll"
      },
      "source": [
        "early_stop=EarlyStopping(patience=4)\n",
        "reduceLR=ReduceLROnPlateau(patience=4)"
      ],
      "execution_count": null,
      "outputs": []
    },
    {
      "cell_type": "code",
      "metadata": {
        "colab": {
          "base_uri": "https://localhost:8080/"
        },
        "id": "-StCYI-URTBv",
        "outputId": "3cfff480-feee-443a-ee53-25fbcb536ee4"
      },
      "source": [
        "# detect and init the TPU\n",
        "tpu = tf.distribute.cluster_resolver.TPUClusterResolver()\n",
        "tf.config.experimental_connect_to_cluster(tpu)\n",
        "tf.tpu.experimental.initialize_tpu_system(tpu)\n",
        "\n",
        "# instantiate a distribution strategy\n",
        "tpu_strategy = tf.distribute.experimental.TPUStrategy(tpu)"
      ],
      "execution_count": null,
      "outputs": [
        {
          "output_type": "stream",
          "name": "stdout",
          "text": [
            "INFO:tensorflow:Clearing out eager caches\n"
          ]
        },
        {
          "output_type": "stream",
          "name": "stderr",
          "text": [
            "INFO:tensorflow:Clearing out eager caches\n"
          ]
        },
        {
          "output_type": "stream",
          "name": "stdout",
          "text": [
            "INFO:tensorflow:Initializing the TPU system: grpc://10.17.225.42:8470\n"
          ]
        },
        {
          "output_type": "stream",
          "name": "stderr",
          "text": [
            "INFO:tensorflow:Initializing the TPU system: grpc://10.17.225.42:8470\n"
          ]
        },
        {
          "output_type": "stream",
          "name": "stdout",
          "text": [
            "INFO:tensorflow:Finished initializing TPU system.\n"
          ]
        },
        {
          "output_type": "stream",
          "name": "stderr",
          "text": [
            "INFO:tensorflow:Finished initializing TPU system.\n",
            "WARNING:absl:`tf.distribute.experimental.TPUStrategy` is deprecated, please use  the non experimental symbol `tf.distribute.TPUStrategy` instead.\n"
          ]
        },
        {
          "output_type": "stream",
          "name": "stdout",
          "text": [
            "INFO:tensorflow:Found TPU system:\n"
          ]
        },
        {
          "output_type": "stream",
          "name": "stderr",
          "text": [
            "INFO:tensorflow:Found TPU system:\n"
          ]
        },
        {
          "output_type": "stream",
          "name": "stdout",
          "text": [
            "INFO:tensorflow:*** Num TPU Cores: 8\n"
          ]
        },
        {
          "output_type": "stream",
          "name": "stderr",
          "text": [
            "INFO:tensorflow:*** Num TPU Cores: 8\n"
          ]
        },
        {
          "output_type": "stream",
          "name": "stdout",
          "text": [
            "INFO:tensorflow:*** Num TPU Workers: 1\n"
          ]
        },
        {
          "output_type": "stream",
          "name": "stderr",
          "text": [
            "INFO:tensorflow:*** Num TPU Workers: 1\n"
          ]
        },
        {
          "output_type": "stream",
          "name": "stdout",
          "text": [
            "INFO:tensorflow:*** Num TPU Cores Per Worker: 8\n"
          ]
        },
        {
          "output_type": "stream",
          "name": "stderr",
          "text": [
            "INFO:tensorflow:*** Num TPU Cores Per Worker: 8\n"
          ]
        },
        {
          "output_type": "stream",
          "name": "stdout",
          "text": [
            "INFO:tensorflow:*** Available Device: _DeviceAttributes(/job:localhost/replica:0/task:0/device:CPU:0, CPU, 0, 0)\n"
          ]
        },
        {
          "output_type": "stream",
          "name": "stderr",
          "text": [
            "INFO:tensorflow:*** Available Device: _DeviceAttributes(/job:localhost/replica:0/task:0/device:CPU:0, CPU, 0, 0)\n"
          ]
        },
        {
          "output_type": "stream",
          "name": "stdout",
          "text": [
            "INFO:tensorflow:*** Available Device: _DeviceAttributes(/job:worker/replica:0/task:0/device:CPU:0, CPU, 0, 0)\n"
          ]
        },
        {
          "output_type": "stream",
          "name": "stderr",
          "text": [
            "INFO:tensorflow:*** Available Device: _DeviceAttributes(/job:worker/replica:0/task:0/device:CPU:0, CPU, 0, 0)\n"
          ]
        },
        {
          "output_type": "stream",
          "name": "stdout",
          "text": [
            "INFO:tensorflow:*** Available Device: _DeviceAttributes(/job:worker/replica:0/task:0/device:TPU:0, TPU, 0, 0)\n"
          ]
        },
        {
          "output_type": "stream",
          "name": "stderr",
          "text": [
            "INFO:tensorflow:*** Available Device: _DeviceAttributes(/job:worker/replica:0/task:0/device:TPU:0, TPU, 0, 0)\n"
          ]
        },
        {
          "output_type": "stream",
          "name": "stdout",
          "text": [
            "INFO:tensorflow:*** Available Device: _DeviceAttributes(/job:worker/replica:0/task:0/device:TPU:1, TPU, 0, 0)\n"
          ]
        },
        {
          "output_type": "stream",
          "name": "stderr",
          "text": [
            "INFO:tensorflow:*** Available Device: _DeviceAttributes(/job:worker/replica:0/task:0/device:TPU:1, TPU, 0, 0)\n"
          ]
        },
        {
          "output_type": "stream",
          "name": "stdout",
          "text": [
            "INFO:tensorflow:*** Available Device: _DeviceAttributes(/job:worker/replica:0/task:0/device:TPU:2, TPU, 0, 0)\n"
          ]
        },
        {
          "output_type": "stream",
          "name": "stderr",
          "text": [
            "INFO:tensorflow:*** Available Device: _DeviceAttributes(/job:worker/replica:0/task:0/device:TPU:2, TPU, 0, 0)\n"
          ]
        },
        {
          "output_type": "stream",
          "name": "stdout",
          "text": [
            "INFO:tensorflow:*** Available Device: _DeviceAttributes(/job:worker/replica:0/task:0/device:TPU:3, TPU, 0, 0)\n"
          ]
        },
        {
          "output_type": "stream",
          "name": "stderr",
          "text": [
            "INFO:tensorflow:*** Available Device: _DeviceAttributes(/job:worker/replica:0/task:0/device:TPU:3, TPU, 0, 0)\n"
          ]
        },
        {
          "output_type": "stream",
          "name": "stdout",
          "text": [
            "INFO:tensorflow:*** Available Device: _DeviceAttributes(/job:worker/replica:0/task:0/device:TPU:4, TPU, 0, 0)\n"
          ]
        },
        {
          "output_type": "stream",
          "name": "stderr",
          "text": [
            "INFO:tensorflow:*** Available Device: _DeviceAttributes(/job:worker/replica:0/task:0/device:TPU:4, TPU, 0, 0)\n"
          ]
        },
        {
          "output_type": "stream",
          "name": "stdout",
          "text": [
            "INFO:tensorflow:*** Available Device: _DeviceAttributes(/job:worker/replica:0/task:0/device:TPU:5, TPU, 0, 0)\n"
          ]
        },
        {
          "output_type": "stream",
          "name": "stderr",
          "text": [
            "INFO:tensorflow:*** Available Device: _DeviceAttributes(/job:worker/replica:0/task:0/device:TPU:5, TPU, 0, 0)\n"
          ]
        },
        {
          "output_type": "stream",
          "name": "stdout",
          "text": [
            "INFO:tensorflow:*** Available Device: _DeviceAttributes(/job:worker/replica:0/task:0/device:TPU:6, TPU, 0, 0)\n"
          ]
        },
        {
          "output_type": "stream",
          "name": "stderr",
          "text": [
            "INFO:tensorflow:*** Available Device: _DeviceAttributes(/job:worker/replica:0/task:0/device:TPU:6, TPU, 0, 0)\n"
          ]
        },
        {
          "output_type": "stream",
          "name": "stdout",
          "text": [
            "INFO:tensorflow:*** Available Device: _DeviceAttributes(/job:worker/replica:0/task:0/device:TPU:7, TPU, 0, 0)\n"
          ]
        },
        {
          "output_type": "stream",
          "name": "stderr",
          "text": [
            "INFO:tensorflow:*** Available Device: _DeviceAttributes(/job:worker/replica:0/task:0/device:TPU:7, TPU, 0, 0)\n"
          ]
        },
        {
          "output_type": "stream",
          "name": "stdout",
          "text": [
            "INFO:tensorflow:*** Available Device: _DeviceAttributes(/job:worker/replica:0/task:0/device:TPU_SYSTEM:0, TPU_SYSTEM, 0, 0)\n"
          ]
        },
        {
          "output_type": "stream",
          "name": "stderr",
          "text": [
            "INFO:tensorflow:*** Available Device: _DeviceAttributes(/job:worker/replica:0/task:0/device:TPU_SYSTEM:0, TPU_SYSTEM, 0, 0)\n"
          ]
        },
        {
          "output_type": "stream",
          "name": "stdout",
          "text": [
            "INFO:tensorflow:*** Available Device: _DeviceAttributes(/job:worker/replica:0/task:0/device:XLA_CPU:0, XLA_CPU, 0, 0)\n"
          ]
        },
        {
          "output_type": "stream",
          "name": "stderr",
          "text": [
            "INFO:tensorflow:*** Available Device: _DeviceAttributes(/job:worker/replica:0/task:0/device:XLA_CPU:0, XLA_CPU, 0, 0)\n"
          ]
        }
      ]
    },
    {
      "cell_type": "code",
      "metadata": {
        "id": "ExdbNJw0QLD8",
        "colab": {
          "base_uri": "https://localhost:8080/"
        },
        "outputId": "9fced98a-b86f-47e9-c534-126a7222a5d6"
      },
      "source": [
        "  with tpu_strategy.scope():\n",
        "      vgg_model = VGG16(weights='imagenet',include_top=False)\n",
        "      for layers in vgg_model.layers:\n",
        "          layers.trainable=False\n",
        "      x=vgg_model.output\n",
        "      x=GlobalAveragePooling2D()(x)\n",
        "      x=Dense(128,activation='relu')(x)\n",
        "      x=Dropout(0.15)(x)\n",
        "      output=Dense(4,activation='softmax')(x)\n",
        "      model1=Model(inputs=vgg_model.input,outputs=output)\n",
        "      model1.compile(optimizer='adam',loss='sparse_categorical_crossentropy',metrics=['accuracy'])"
      ],
      "execution_count": null,
      "outputs": [
        {
          "output_type": "stream",
          "name": "stdout",
          "text": [
            "Downloading data from https://storage.googleapis.com/tensorflow/keras-applications/vgg16/vgg16_weights_tf_dim_ordering_tf_kernels_notop.h5\n",
            "58892288/58889256 [==============================] - 1s 0us/step\n",
            "58900480/58889256 [==============================] - 1s 0us/step\n"
          ]
        }
      ]
    },
    {
      "cell_type": "code",
      "metadata": {
        "id": "6r2s6L6tQR_B"
      },
      "source": [
        "from random import shuffle\n",
        "\n",
        "ind_list = [i for i in range(len(X_train))]\n",
        "shuffle(ind_list)\n",
        "X_train_new  = X_train[ind_list, :,:,:]\n",
        "Y_train_new = Y_train[ind_list]"
      ],
      "execution_count": null,
      "outputs": []
    },
    {
      "cell_type": "code",
      "metadata": {
        "id": "nUXsTXpbh9Kj"
      },
      "source": [
        "# Checkpoint to save best model per epoch\n",
        "model_filepath = \"/content/drive/My Drive/vgg-{epoch:02d}-{val_accuracy:.4f}.hdf5\"\n",
        "model_checkpoint_callbackvgg = tf.keras.callbacks.ModelCheckpoint(\n",
        "    filepath=model_filepath,\n",
        "    verbose=1,\n",
        "    monitor='val_accuracy',\n",
        "    mode='max',\n",
        "    save_best_only=True)"
      ],
      "execution_count": null,
      "outputs": []
    },
    {
      "cell_type": "code",
      "metadata": {
        "colab": {
          "base_uri": "https://localhost:8080/"
        },
        "id": "W8zrV0EdQtbA",
        "outputId": "62b72e1c-d5e8-4b14-d046-12244a86d3ee"
      },
      "source": [
        "r1=model1.fit(X_train_new,Y_train_new,validation_split=0.2,epochs=20, callbacks=[model_checkpoint_callbackvgg])"
      ],
      "execution_count": null,
      "outputs": [
        {
          "output_type": "stream",
          "name": "stdout",
          "text": [
            "Epoch 1/20\n",
            "8/8 [==============================] - 10s 640ms/step - loss: 4.3007 - accuracy: 0.3203 - val_loss: 2.1327 - val_accuracy: 0.4531\n",
            "\n",
            "Epoch 00001: val_accuracy improved from -inf to 0.45312, saving model to /content/drive/My Drive/vgg-01-0.4531.hdf5\n",
            "Epoch 2/20\n",
            "8/8 [==============================] - 1s 149ms/step - loss: 2.0966 - accuracy: 0.5273 - val_loss: 1.3040 - val_accuracy: 0.6094\n",
            "\n",
            "Epoch 00002: val_accuracy improved from 0.45312 to 0.60938, saving model to /content/drive/My Drive/vgg-02-0.6094.hdf5\n",
            "Epoch 3/20\n",
            "8/8 [==============================] - 1s 125ms/step - loss: 1.4918 - accuracy: 0.6680 - val_loss: 1.4138 - val_accuracy: 0.6562\n",
            "\n",
            "Epoch 00003: val_accuracy improved from 0.60938 to 0.65625, saving model to /content/drive/My Drive/vgg-03-0.6562.hdf5\n",
            "Epoch 4/20\n",
            "8/8 [==============================] - 1s 126ms/step - loss: 0.8888 - accuracy: 0.7344 - val_loss: 1.0977 - val_accuracy: 0.6562\n",
            "\n",
            "Epoch 00004: val_accuracy did not improve from 0.65625\n",
            "Epoch 5/20\n",
            "8/8 [==============================] - 1s 119ms/step - loss: 0.6042 - accuracy: 0.7930 - val_loss: 1.1351 - val_accuracy: 0.6250\n",
            "\n",
            "Epoch 00005: val_accuracy did not improve from 0.65625\n",
            "Epoch 6/20\n",
            "8/8 [==============================] - 1s 125ms/step - loss: 0.5125 - accuracy: 0.7930 - val_loss: 1.1443 - val_accuracy: 0.5938\n",
            "\n",
            "Epoch 00006: val_accuracy did not improve from 0.65625\n",
            "Epoch 7/20\n",
            "8/8 [==============================] - 1s 122ms/step - loss: 0.4118 - accuracy: 0.8438 - val_loss: 1.0208 - val_accuracy: 0.6094\n",
            "\n",
            "Epoch 00007: val_accuracy did not improve from 0.65625\n",
            "Epoch 8/20\n",
            "8/8 [==============================] - 1s 118ms/step - loss: 0.4562 - accuracy: 0.8672 - val_loss: 1.0211 - val_accuracy: 0.6406\n",
            "\n",
            "Epoch 00008: val_accuracy did not improve from 0.65625\n",
            "Epoch 9/20\n",
            "8/8 [==============================] - 1s 123ms/step - loss: 0.2971 - accuracy: 0.8984 - val_loss: 1.0293 - val_accuracy: 0.6562\n",
            "\n",
            "Epoch 00009: val_accuracy did not improve from 0.65625\n",
            "Epoch 10/20\n",
            "8/8 [==============================] - 1s 133ms/step - loss: 0.2140 - accuracy: 0.9219 - val_loss: 1.0515 - val_accuracy: 0.6875\n",
            "\n",
            "Epoch 00010: val_accuracy improved from 0.65625 to 0.68750, saving model to /content/drive/My Drive/vgg-10-0.6875.hdf5\n",
            "Epoch 11/20\n",
            "8/8 [==============================] - 1s 118ms/step - loss: 0.2558 - accuracy: 0.9219 - val_loss: 0.9758 - val_accuracy: 0.6719\n",
            "\n",
            "Epoch 00011: val_accuracy did not improve from 0.68750\n",
            "Epoch 12/20\n",
            "8/8 [==============================] - 1s 117ms/step - loss: 0.1824 - accuracy: 0.9336 - val_loss: 1.0882 - val_accuracy: 0.6719\n",
            "\n",
            "Epoch 00012: val_accuracy did not improve from 0.68750\n",
            "Epoch 13/20\n",
            "8/8 [==============================] - 1s 125ms/step - loss: 0.1529 - accuracy: 0.9531 - val_loss: 1.0475 - val_accuracy: 0.6719\n",
            "\n",
            "Epoch 00013: val_accuracy did not improve from 0.68750\n",
            "Epoch 14/20\n",
            "8/8 [==============================] - 1s 121ms/step - loss: 0.1248 - accuracy: 0.9648 - val_loss: 1.0511 - val_accuracy: 0.6875\n",
            "\n",
            "Epoch 00014: val_accuracy did not improve from 0.68750\n",
            "Epoch 15/20\n",
            "8/8 [==============================] - 1s 120ms/step - loss: 0.1323 - accuracy: 0.9570 - val_loss: 1.1849 - val_accuracy: 0.6719\n",
            "\n",
            "Epoch 00015: val_accuracy did not improve from 0.68750\n",
            "Epoch 16/20\n",
            "8/8 [==============================] - 1s 120ms/step - loss: 0.1078 - accuracy: 0.9805 - val_loss: 1.0655 - val_accuracy: 0.6875\n",
            "\n",
            "Epoch 00016: val_accuracy did not improve from 0.68750\n",
            "Epoch 17/20\n",
            "8/8 [==============================] - 1s 116ms/step - loss: 0.0959 - accuracy: 0.9766 - val_loss: 1.0871 - val_accuracy: 0.6875\n",
            "\n",
            "Epoch 00017: val_accuracy did not improve from 0.68750\n",
            "Epoch 18/20\n",
            "8/8 [==============================] - 1s 120ms/step - loss: 0.0835 - accuracy: 0.9805 - val_loss: 1.1363 - val_accuracy: 0.6875\n",
            "\n",
            "Epoch 00018: val_accuracy did not improve from 0.68750\n",
            "Epoch 19/20\n",
            "8/8 [==============================] - 1s 127ms/step - loss: 0.0915 - accuracy: 0.9688 - val_loss: 1.1283 - val_accuracy: 0.7031\n",
            "\n",
            "Epoch 00019: val_accuracy improved from 0.68750 to 0.70312, saving model to /content/drive/My Drive/vgg-19-0.7031.hdf5\n",
            "Epoch 20/20\n",
            "8/8 [==============================] - 1s 159ms/step - loss: 0.0755 - accuracy: 0.9922 - val_loss: 1.2529 - val_accuracy: 0.6719\n",
            "\n",
            "Epoch 00020: val_accuracy did not improve from 0.70312\n"
          ]
        }
      ]
    },
    {
      "cell_type": "code",
      "metadata": {
        "id": "jpgVXl8VTJ7m",
        "colab": {
          "base_uri": "https://localhost:8080/"
        },
        "outputId": "d8432b17-bbef-4c14-e3ea-098865b310f4"
      },
      "source": [
        "with tpu_strategy.scope():\n",
        "  res=tf.keras.applications.ResNet50(weights='imagenet',include_top=False)\n",
        "  for layers in res.layers:\n",
        "          layers.trainable=False\n",
        "  x=res.output\n",
        "  x=GlobalAveragePooling2D()(x)\n",
        "  x=Dense(128,activation='relu')(x)\n",
        "  x=Dropout(0.15)(x)\n",
        "  output=Dense(4,activation='softmax')(x)\n",
        "  model2=Model(inputs=res.input,outputs=output)\n",
        "  model2.compile(optimizer='adam',loss='sparse_categorical_crossentropy',metrics=['accuracy'])"
      ],
      "execution_count": null,
      "outputs": [
        {
          "output_type": "stream",
          "name": "stdout",
          "text": [
            "Downloading data from https://storage.googleapis.com/tensorflow/keras-applications/resnet/resnet50_weights_tf_dim_ordering_tf_kernels_notop.h5\n",
            "94773248/94765736 [==============================] - 1s 0us/step\n",
            "94781440/94765736 [==============================] - 1s 0us/step\n"
          ]
        }
      ]
    },
    {
      "cell_type": "code",
      "metadata": {
        "id": "R3IVnDe_jMSM"
      },
      "source": [
        "model_filepath = \"/content/drive/My Drive/res-{epoch:02d}-{val_accuracy:.4f}.hdf5\"\n",
        "model_checkpoint_callbackres = tf.keras.callbacks.ModelCheckpoint(\n",
        "    filepath=model_filepath,\n",
        "    verbose=1,\n",
        "    monitor='val_accuracy',\n",
        "    mode='max',\n",
        "    save_best_only=True)"
      ],
      "execution_count": null,
      "outputs": []
    },
    {
      "cell_type": "code",
      "metadata": {
        "colab": {
          "base_uri": "https://localhost:8080/"
        },
        "id": "1Fi46ZngVB4o",
        "outputId": "1b1c9d8c-f9a6-41a0-c227-f88ac40011a9"
      },
      "source": [
        "r2=model2.fit(X_train_new,Y_train_new,validation_split=0.2,epochs=20, callbacks=[model_checkpoint_callbackres])"
      ],
      "execution_count": null,
      "outputs": [
        {
          "output_type": "stream",
          "name": "stdout",
          "text": [
            "Epoch 1/20\n",
            "8/8 [==============================] - 56s 4s/step - loss: 1.6579 - accuracy: 0.3828 - val_loss: 1.1427 - val_accuracy: 0.5156\n",
            "\n",
            "Epoch 00001: val_accuracy improved from -inf to 0.51562, saving model to /content/drive/My Drive/res-01-0.5156.hdf5\n"
          ]
        },
        {
          "output_type": "stream",
          "name": "stderr",
          "text": [
            "/usr/local/lib/python3.7/dist-packages/keras/utils/generic_utils.py:497: CustomMaskWarning: Custom mask layers require a config and must override get_config. When loading, the custom mask layer must be passed to the custom_objects argument.\n",
            "  category=CustomMaskWarning)\n"
          ]
        },
        {
          "output_type": "stream",
          "name": "stdout",
          "text": [
            "Epoch 2/20\n",
            "8/8 [==============================] - 1s 121ms/step - loss: 1.0195 - accuracy: 0.5469 - val_loss: 1.0044 - val_accuracy: 0.6094\n",
            "\n",
            "Epoch 00002: val_accuracy improved from 0.51562 to 0.60938, saving model to /content/drive/My Drive/res-02-0.6094.hdf5\n",
            "Epoch 3/20\n",
            "8/8 [==============================] - 1s 118ms/step - loss: 0.7578 - accuracy: 0.7188 - val_loss: 1.0132 - val_accuracy: 0.6562\n",
            "\n",
            "Epoch 00003: val_accuracy improved from 0.60938 to 0.65625, saving model to /content/drive/My Drive/res-03-0.6562.hdf5\n",
            "Epoch 4/20\n",
            "8/8 [==============================] - 1s 190ms/step - loss: 0.5773 - accuracy: 0.8125 - val_loss: 0.8584 - val_accuracy: 0.6719\n",
            "\n",
            "Epoch 00004: val_accuracy improved from 0.65625 to 0.67188, saving model to /content/drive/My Drive/res-04-0.6719.hdf5\n",
            "Epoch 5/20\n",
            "8/8 [==============================] - 1s 144ms/step - loss: 0.4576 - accuracy: 0.8438 - val_loss: 0.9132 - val_accuracy: 0.5938\n",
            "\n",
            "Epoch 00005: val_accuracy did not improve from 0.67188\n",
            "Epoch 6/20\n",
            "8/8 [==============================] - 1s 174ms/step - loss: 0.4048 - accuracy: 0.8672 - val_loss: 0.8401 - val_accuracy: 0.6875\n",
            "\n",
            "Epoch 00006: val_accuracy improved from 0.67188 to 0.68750, saving model to /content/drive/My Drive/res-06-0.6875.hdf5\n",
            "Epoch 7/20\n",
            "8/8 [==============================] - 1s 120ms/step - loss: 0.3246 - accuracy: 0.9062 - val_loss: 0.8877 - val_accuracy: 0.6250\n",
            "\n",
            "Epoch 00007: val_accuracy did not improve from 0.68750\n",
            "Epoch 8/20\n",
            "8/8 [==============================] - 1s 126ms/step - loss: 0.2904 - accuracy: 0.9219 - val_loss: 0.8193 - val_accuracy: 0.6875\n",
            "\n",
            "Epoch 00008: val_accuracy did not improve from 0.68750\n",
            "Epoch 9/20\n",
            "8/8 [==============================] - 1s 129ms/step - loss: 0.2452 - accuracy: 0.9258 - val_loss: 0.8683 - val_accuracy: 0.6562\n",
            "\n",
            "Epoch 00009: val_accuracy did not improve from 0.68750\n",
            "Epoch 10/20\n",
            "8/8 [==============================] - 1s 125ms/step - loss: 0.1937 - accuracy: 0.9648 - val_loss: 0.8521 - val_accuracy: 0.6562\n",
            "\n",
            "Epoch 00010: val_accuracy did not improve from 0.68750\n",
            "Epoch 11/20\n",
            "8/8 [==============================] - 1s 120ms/step - loss: 0.1688 - accuracy: 0.9688 - val_loss: 0.8997 - val_accuracy: 0.6719\n",
            "\n",
            "Epoch 00011: val_accuracy did not improve from 0.68750\n",
            "Epoch 12/20\n",
            "8/8 [==============================] - 1s 187ms/step - loss: 0.1599 - accuracy: 0.9648 - val_loss: 0.8770 - val_accuracy: 0.6719\n",
            "\n",
            "Epoch 00012: val_accuracy did not improve from 0.68750\n",
            "Epoch 13/20\n",
            "8/8 [==============================] - 1s 119ms/step - loss: 0.1394 - accuracy: 0.9766 - val_loss: 0.8754 - val_accuracy: 0.6562\n",
            "\n",
            "Epoch 00013: val_accuracy did not improve from 0.68750\n",
            "Epoch 14/20\n",
            "8/8 [==============================] - 1s 160ms/step - loss: 0.1299 - accuracy: 0.9727 - val_loss: 0.9218 - val_accuracy: 0.6875\n",
            "\n",
            "Epoch 00014: val_accuracy did not improve from 0.68750\n",
            "Epoch 15/20\n",
            "8/8 [==============================] - 1s 156ms/step - loss: 0.1106 - accuracy: 0.9883 - val_loss: 0.9136 - val_accuracy: 0.6562\n",
            "\n",
            "Epoch 00015: val_accuracy did not improve from 0.68750\n",
            "Epoch 16/20\n",
            "8/8 [==============================] - 1s 121ms/step - loss: 0.1106 - accuracy: 0.9805 - val_loss: 0.9158 - val_accuracy: 0.6719\n",
            "\n",
            "Epoch 00016: val_accuracy did not improve from 0.68750\n",
            "Epoch 17/20\n",
            "8/8 [==============================] - 1s 121ms/step - loss: 0.0940 - accuracy: 0.9922 - val_loss: 0.9155 - val_accuracy: 0.6875\n",
            "\n",
            "Epoch 00017: val_accuracy did not improve from 0.68750\n",
            "Epoch 18/20\n",
            "8/8 [==============================] - 1s 122ms/step - loss: 0.0818 - accuracy: 0.9961 - val_loss: 0.8760 - val_accuracy: 0.6875\n",
            "\n",
            "Epoch 00018: val_accuracy did not improve from 0.68750\n",
            "Epoch 19/20\n",
            "8/8 [==============================] - 1s 121ms/step - loss: 0.0694 - accuracy: 0.9922 - val_loss: 1.0224 - val_accuracy: 0.6719\n",
            "\n",
            "Epoch 00019: val_accuracy did not improve from 0.68750\n",
            "Epoch 20/20\n",
            "8/8 [==============================] - 1s 120ms/step - loss: 0.0694 - accuracy: 0.9961 - val_loss: 0.8768 - val_accuracy: 0.7344\n",
            "\n",
            "Epoch 00020: val_accuracy improved from 0.68750 to 0.73438, saving model to /content/drive/My Drive/res-20-0.7344.hdf5\n"
          ]
        }
      ]
    },
    {
      "cell_type": "code",
      "metadata": {
        "id": "fEQJVbfc32_G"
      },
      "source": [
        "from tensorflow.keras.applications import InceptionV3\n",
        "from tensorflow.keras.models import Model\n",
        "from tensorflow.keras.layers import MaxPooling2D, GlobalAveragePooling2D\n",
        "with tpu_strategy.scope():\n",
        "  base_model = InceptionV3(\n",
        "                    input_shape=(image_width, image_height, 3),\n",
        "                    weights='imagenet',\n",
        "                    include_top=False)\n",
        "  # Freeze the first 10 layers\n",
        "  for layer in base_model.layers[:10]:\n",
        "      layer.trainable = False\n",
        "  x = base_model.output\n",
        "  x = GlobalAveragePooling2D()(x)\n",
        "  x = Dense(512, activation='relu')(x)\n",
        "  x = Dropout(0.4)(x)\n",
        "  predictions = Dense(4, activation='softmax')(x)\n",
        "  model3 = Model(inputs=base_model.inputs, outputs=predictions)\n",
        "  model3.compile(optimizer='adam',loss='sparse_categorical_crossentropy',metrics=['accuracy'])"
      ],
      "execution_count": null,
      "outputs": []
    },
    {
      "cell_type": "code",
      "metadata": {
        "id": "z39qelCo4kiB"
      },
      "source": [
        "model_filepath = \"/content/drive/My Drive/Inception-{epoch:02d}-{val_accuracy:.4f}.hdf5\"\n",
        "model_checkpoint_callbackin = tf.keras.callbacks.ModelCheckpoint(\n",
        "    filepath=model_filepath,\n",
        "    verbose=1,\n",
        "    monitor='val_accuracy',\n",
        "    mode='max',\n",
        "    save_best_only=True)"
      ],
      "execution_count": null,
      "outputs": []
    },
    {
      "cell_type": "code",
      "metadata": {
        "colab": {
          "base_uri": "https://localhost:8080/"
        },
        "id": "j6U9h6Fb4siY",
        "outputId": "420967d8-78d2-4d1d-a105-56febd26e36d"
      },
      "source": [
        "r3=model3.fit(X_train_new,Y_train_new,validation_split=0.2,epochs=20, callbacks=[model_checkpoint_callbackin])"
      ],
      "execution_count": null,
      "outputs": [
        {
          "output_type": "stream",
          "name": "stdout",
          "text": [
            "Epoch 1/20\n",
            "8/8 [==============================] - 78s 2s/step - loss: 1.8743 - accuracy: 0.2930 - val_loss: 311.3103 - val_accuracy: 0.2344\n",
            "\n",
            "Epoch 00001: val_accuracy improved from -inf to 0.23438, saving model to /content/drive/My Drive/Inception-01-0.2344.hdf5\n",
            "Epoch 2/20\n",
            "8/8 [==============================] - 1s 155ms/step - loss: 1.3048 - accuracy: 0.3711 - val_loss: 12662.6465 - val_accuracy: 0.2344\n",
            "\n",
            "Epoch 00002: val_accuracy did not improve from 0.23438\n",
            "Epoch 3/20\n",
            "8/8 [==============================] - 1s 153ms/step - loss: 1.2374 - accuracy: 0.4609 - val_loss: 3118.5767 - val_accuracy: 0.2344\n",
            "\n",
            "Epoch 00003: val_accuracy did not improve from 0.23438\n",
            "Epoch 4/20\n",
            "8/8 [==============================] - 1s 157ms/step - loss: 1.1092 - accuracy: 0.5117 - val_loss: 695.7341 - val_accuracy: 0.2344\n",
            "\n",
            "Epoch 00004: val_accuracy did not improve from 0.23438\n",
            "Epoch 5/20\n",
            "8/8 [==============================] - 1s 158ms/step - loss: 1.0164 - accuracy: 0.5859 - val_loss: 96.4116 - val_accuracy: 0.2344\n",
            "\n",
            "Epoch 00005: val_accuracy did not improve from 0.23438\n",
            "Epoch 6/20\n",
            "8/8 [==============================] - 1s 157ms/step - loss: 0.8177 - accuracy: 0.6914 - val_loss: 84.1534 - val_accuracy: 0.2344\n",
            "\n",
            "Epoch 00006: val_accuracy did not improve from 0.23438\n",
            "Epoch 7/20\n",
            "8/8 [==============================] - 1s 152ms/step - loss: 0.8431 - accuracy: 0.6797 - val_loss: 158.7810 - val_accuracy: 0.2344\n",
            "\n",
            "Epoch 00007: val_accuracy did not improve from 0.23438\n",
            "Epoch 8/20\n",
            "8/8 [==============================] - 1s 158ms/step - loss: 0.7789 - accuracy: 0.6992 - val_loss: 35.2882 - val_accuracy: 0.3594\n",
            "\n",
            "Epoch 00008: val_accuracy improved from 0.23438 to 0.35938, saving model to /content/drive/My Drive/Inception-08-0.3594.hdf5\n",
            "Epoch 9/20\n",
            "8/8 [==============================] - 1s 158ms/step - loss: 0.5758 - accuracy: 0.8008 - val_loss: 23.0589 - val_accuracy: 0.2344\n",
            "\n",
            "Epoch 00009: val_accuracy did not improve from 0.35938\n",
            "Epoch 10/20\n",
            "8/8 [==============================] - 1s 159ms/step - loss: 0.6155 - accuracy: 0.7539 - val_loss: 23.7963 - val_accuracy: 0.3594\n",
            "\n",
            "Epoch 00010: val_accuracy did not improve from 0.35938\n",
            "Epoch 11/20\n",
            "8/8 [==============================] - 1s 164ms/step - loss: 0.6647 - accuracy: 0.7305 - val_loss: 2.9304 - val_accuracy: 0.2812\n",
            "\n",
            "Epoch 00011: val_accuracy did not improve from 0.35938\n",
            "Epoch 12/20\n",
            "8/8 [==============================] - 1s 158ms/step - loss: 0.5943 - accuracy: 0.7656 - val_loss: 4.6774 - val_accuracy: 0.3438\n",
            "\n",
            "Epoch 00012: val_accuracy did not improve from 0.35938\n",
            "Epoch 13/20\n",
            "8/8 [==============================] - 1s 159ms/step - loss: 0.5847 - accuracy: 0.7930 - val_loss: 4.8682 - val_accuracy: 0.3750\n",
            "\n",
            "Epoch 00013: val_accuracy improved from 0.35938 to 0.37500, saving model to /content/drive/My Drive/Inception-13-0.3750.hdf5\n",
            "Epoch 14/20\n",
            "8/8 [==============================] - 1s 161ms/step - loss: 0.4299 - accuracy: 0.8477 - val_loss: 20.0035 - val_accuracy: 0.2344\n",
            "\n",
            "Epoch 00014: val_accuracy did not improve from 0.37500\n",
            "Epoch 15/20\n",
            "8/8 [==============================] - 1s 162ms/step - loss: 0.5190 - accuracy: 0.8438 - val_loss: 16.8992 - val_accuracy: 0.3594\n",
            "\n",
            "Epoch 00015: val_accuracy did not improve from 0.37500\n",
            "Epoch 16/20\n",
            "8/8 [==============================] - 1s 161ms/step - loss: 0.4958 - accuracy: 0.8320 - val_loss: 8.3584 - val_accuracy: 0.3750\n",
            "\n",
            "Epoch 00016: val_accuracy did not improve from 0.37500\n",
            "Epoch 17/20\n",
            "8/8 [==============================] - 1s 161ms/step - loss: 0.4452 - accuracy: 0.8438 - val_loss: 11.8389 - val_accuracy: 0.3281\n",
            "\n",
            "Epoch 00017: val_accuracy did not improve from 0.37500\n",
            "Epoch 18/20\n",
            "8/8 [==============================] - 1s 157ms/step - loss: 0.4114 - accuracy: 0.8594 - val_loss: 12.6622 - val_accuracy: 0.3594\n",
            "\n",
            "Epoch 00018: val_accuracy did not improve from 0.37500\n",
            "Epoch 19/20\n",
            "8/8 [==============================] - 1s 156ms/step - loss: 0.4362 - accuracy: 0.8594 - val_loss: 6.7250 - val_accuracy: 0.4062\n",
            "\n",
            "Epoch 00019: val_accuracy improved from 0.37500 to 0.40625, saving model to /content/drive/My Drive/Inception-19-0.4062.hdf5\n",
            "Epoch 20/20\n",
            "8/8 [==============================] - 1s 161ms/step - loss: 0.4893 - accuracy: 0.8242 - val_loss: 11.4585 - val_accuracy: 0.3750\n",
            "\n",
            "Epoch 00020: val_accuracy did not improve from 0.40625\n"
          ]
        }
      ]
    },
    {
      "cell_type": "code",
      "metadata": {
        "id": "pYh8nNpAWCJS"
      },
      "source": [
        "from tensorflow.keras.models import Model, load_model\n",
        "from tensorflow.keras.layers import Input, Average\n",
        "model_1 = load_model(\"/content/drive/My Drive/vgg-19-0.7031.hdf5\")\n",
        "model_1 = Model(inputs=model_1.inputs,\n",
        "                outputs=model_1.outputs,\n",
        "                name='vgg16')\n",
        "model_2 = load_model(\"/content/drive/My Drive/res-20-0.7344.hdf5\")\n",
        "model_2 = Model(inputs=model_2.inputs,\n",
        "                outputs=model_2.outputs,\n",
        "                name='resnet50')\n",
        "model_3 = load_model(\"/content/drive/My Drive/Inception-19-0.4062.hdf5\")\n",
        "model_3 = Model(inputs=model_3.inputs,\n",
        "                outputs=model_3.outputs,\n",
        "                name='inception')\n",
        "models = [model_1, model_2, model_3]\n",
        "model_input = Input(shape=(image_width, image_height, 3))\n",
        "model_outputs = [model(model_input) for model in models]\n",
        "ensemble_output = Average()(model_outputs)\n",
        "ensemble_model = Model(inputs=model_input, outputs=ensemble_output, name='ensemble')"
      ],
      "execution_count": null,
      "outputs": []
    },
    {
      "cell_type": "code",
      "metadata": {
        "id": "WjL_4LqYmuZk"
      },
      "source": [
        " ensemble_model.compile(optimizer='adam',loss='sparse_categorical_crossentropy',metrics=['accuracy'])"
      ],
      "execution_count": null,
      "outputs": []
    },
    {
      "cell_type": "code",
      "metadata": {
        "colab": {
          "base_uri": "https://localhost:8080/"
        },
        "id": "BXefgF5jm3RS",
        "outputId": "39942d12-18e6-440f-d1a7-b4cb294e182b"
      },
      "source": [
        "r4=ensemble_model.fit(X_train_new,Y_train_new,validation_split=0.2,epochs=20)"
      ],
      "execution_count": null,
      "outputs": [
        {
          "output_type": "stream",
          "name": "stdout",
          "text": [
            "Epoch 1/20\n",
            "8/8 [==============================] - 14s 2s/step - loss: 0.1192 - accuracy: 0.9961 - val_loss: 0.8907 - val_accuracy: 0.6875\n",
            "Epoch 2/20\n",
            "8/8 [==============================] - 10s 1s/step - loss: 0.1160 - accuracy: 0.9883 - val_loss: 1.0435 - val_accuracy: 0.6406\n",
            "Epoch 3/20\n",
            "8/8 [==============================] - 10s 1s/step - loss: 0.1168 - accuracy: 0.9922 - val_loss: 0.7704 - val_accuracy: 0.7812\n",
            "Epoch 4/20\n",
            "8/8 [==============================] - 10s 1s/step - loss: 0.0991 - accuracy: 0.9961 - val_loss: 0.8709 - val_accuracy: 0.6562\n",
            "Epoch 5/20\n",
            "8/8 [==============================] - 10s 1s/step - loss: 0.0844 - accuracy: 0.9961 - val_loss: 1.0925 - val_accuracy: 0.6719\n",
            "Epoch 6/20\n",
            "8/8 [==============================] - 10s 1s/step - loss: 0.1242 - accuracy: 0.9961 - val_loss: 0.9780 - val_accuracy: 0.6406\n",
            "Epoch 7/20\n",
            "8/8 [==============================] - 10s 1s/step - loss: 0.1505 - accuracy: 1.0000 - val_loss: 1.2201 - val_accuracy: 0.6562\n",
            "Epoch 8/20\n",
            "8/8 [==============================] - 10s 1s/step - loss: 0.1192 - accuracy: 1.0000 - val_loss: 0.8847 - val_accuracy: 0.7656\n",
            "Epoch 9/20\n",
            "8/8 [==============================] - 9s 1s/step - loss: 0.1131 - accuracy: 0.9961 - val_loss: 0.9305 - val_accuracy: 0.6719\n",
            "Epoch 10/20\n",
            "8/8 [==============================] - 10s 1s/step - loss: 0.1177 - accuracy: 0.9922 - val_loss: 0.8855 - val_accuracy: 0.7656\n",
            "Epoch 11/20\n",
            "8/8 [==============================] - 10s 1s/step - loss: 0.1078 - accuracy: 1.0000 - val_loss: 1.0318 - val_accuracy: 0.6562\n",
            "Epoch 12/20\n",
            "8/8 [==============================] - 10s 1s/step - loss: 0.0879 - accuracy: 1.0000 - val_loss: 1.0875 - val_accuracy: 0.6406\n",
            "Epoch 13/20\n",
            "8/8 [==============================] - 10s 1s/step - loss: 0.1103 - accuracy: 1.0000 - val_loss: 0.9985 - val_accuracy: 0.6562\n",
            "Epoch 14/20\n",
            "8/8 [==============================] - 10s 1s/step - loss: 0.1140 - accuracy: 1.0000 - val_loss: 1.0659 - val_accuracy: 0.6875\n",
            "Epoch 15/20\n",
            "8/8 [==============================] - 10s 1s/step - loss: 0.1209 - accuracy: 1.0000 - val_loss: 1.0187 - val_accuracy: 0.6562\n",
            "Epoch 16/20\n",
            "8/8 [==============================] - 10s 1s/step - loss: 0.0918 - accuracy: 1.0000 - val_loss: 1.0127 - val_accuracy: 0.6719\n",
            "Epoch 17/20\n",
            "8/8 [==============================] - 10s 1s/step - loss: 0.0962 - accuracy: 1.0000 - val_loss: 0.9493 - val_accuracy: 0.6719\n",
            "Epoch 18/20\n",
            "8/8 [==============================] - 10s 1s/step - loss: 0.1043 - accuracy: 1.0000 - val_loss: 1.0221 - val_accuracy: 0.6719\n",
            "Epoch 19/20\n",
            "8/8 [==============================] - 10s 1s/step - loss: 0.0818 - accuracy: 1.0000 - val_loss: 1.1937 - val_accuracy: 0.7188\n",
            "Epoch 20/20\n",
            "8/8 [==============================] - 10s 1s/step - loss: 0.1209 - accuracy: 1.0000 - val_loss: 1.1865 - val_accuracy: 0.7188\n"
          ]
        }
      ]
    }
  ]
}